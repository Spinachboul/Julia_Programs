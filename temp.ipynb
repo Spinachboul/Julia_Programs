{
 "cells": [
  {
   "cell_type": "code",
   "execution_count": 9,
   "metadata": {},
   "outputs": [
    {
     "data": {
      "text/plain": [
       "BenchmarkTools.Trial: 10000 samples with 800 evaluations.\n",
       " Range \u001b[90m(\u001b[39m\u001b[36m\u001b[1mmin\u001b[22m\u001b[39m … \u001b[35mmax\u001b[39m\u001b[90m):  \u001b[39m\u001b[36m\u001b[1m149.500 ns\u001b[22m\u001b[39m … \u001b[35m  5.444 μs\u001b[39m  \u001b[90m┊\u001b[39m GC \u001b[90m(\u001b[39mmin … max\u001b[90m): \u001b[39m0.00% … 0.00%\n",
       " Time  \u001b[90m(\u001b[39m\u001b[34m\u001b[1mmedian\u001b[22m\u001b[39m\u001b[90m):     \u001b[39m\u001b[34m\u001b[1m164.125 ns               \u001b[22m\u001b[39m\u001b[90m┊\u001b[39m GC \u001b[90m(\u001b[39mmedian\u001b[90m):    \u001b[39m0.00%\n",
       " Time  \u001b[90m(\u001b[39m\u001b[32m\u001b[1mmean\u001b[22m\u001b[39m ± \u001b[32mσ\u001b[39m\u001b[90m):   \u001b[39m\u001b[32m\u001b[1m192.902 ns\u001b[22m\u001b[39m ± \u001b[32m192.419 ns\u001b[39m  \u001b[90m┊\u001b[39m GC \u001b[90m(\u001b[39mmean ± σ\u001b[90m):  \u001b[39m1.69% ± 4.08%\n",
       "\n",
       "  \u001b[39m▂\u001b[39m█\u001b[34m▄\u001b[39m\u001b[39m▃\u001b[39m▁\u001b[32m▁\u001b[39m\u001b[39m▁\u001b[39m▁\u001b[39m▁\u001b[39m \u001b[39m \u001b[39m \u001b[39m \u001b[39m▁\u001b[39m \u001b[39m \u001b[39m \u001b[39m \u001b[39m \u001b[39m \u001b[39m \u001b[39m \u001b[39m \u001b[39m \u001b[39m \u001b[39m \u001b[39m \u001b[39m \u001b[39m \u001b[39m \u001b[39m \u001b[39m \u001b[39m \u001b[39m \u001b[39m \u001b[39m \u001b[39m \u001b[39m \u001b[39m \u001b[39m \u001b[39m \u001b[39m \u001b[39m \u001b[39m \u001b[39m \u001b[39m \u001b[39m \u001b[39m \u001b[39m \u001b[39m \u001b[39m \u001b[39m \u001b[39m \u001b[39m \u001b[39m \u001b[39m \u001b[39m \u001b[39m \u001b[39m \u001b[39m \u001b[39m \u001b[39m \u001b[39m▁\n",
       "  \u001b[39m█\u001b[39m█\u001b[34m█\u001b[39m\u001b[39m█\u001b[39m█\u001b[32m█\u001b[39m\u001b[39m█\u001b[39m█\u001b[39m█\u001b[39m█\u001b[39m█\u001b[39m█\u001b[39m█\u001b[39m█\u001b[39m█\u001b[39m█\u001b[39m▇\u001b[39m▇\u001b[39m▇\u001b[39m▇\u001b[39m▇\u001b[39m▅\u001b[39m▆\u001b[39m▆\u001b[39m▆\u001b[39m▅\u001b[39m▆\u001b[39m▆\u001b[39m▅\u001b[39m▅\u001b[39m▄\u001b[39m▅\u001b[39m▅\u001b[39m▁\u001b[39m▅\u001b[39m▄\u001b[39m▄\u001b[39m▅\u001b[39m▅\u001b[39m▄\u001b[39m▄\u001b[39m▅\u001b[39m▁\u001b[39m▅\u001b[39m▅\u001b[39m▃\u001b[39m▅\u001b[39m▁\u001b[39m▃\u001b[39m▄\u001b[39m▃\u001b[39m▁\u001b[39m▃\u001b[39m▄\u001b[39m▁\u001b[39m▄\u001b[39m▄\u001b[39m▄\u001b[39m▄\u001b[39m▁\u001b[39m▄\u001b[39m \u001b[39m█\n",
       "  150 ns\u001b[90m        \u001b[39m\u001b[90mHistogram: \u001b[39m\u001b[90m\u001b[1mlog(\u001b[22m\u001b[39m\u001b[90mfrequency\u001b[39m\u001b[90m\u001b[1m)\u001b[22m\u001b[39m\u001b[90m by time\u001b[39m        731 ns \u001b[0m\u001b[1m<\u001b[22m\n",
       "\n",
       " Memory estimate\u001b[90m: \u001b[39m\u001b[33m144 bytes\u001b[39m, allocs estimate\u001b[90m: \u001b[39m\u001b[33m1\u001b[39m."
      ]
     },
     "metadata": {},
     "output_type": "display_data"
    }
   ],
   "source": [
    "using BenchmarkTools\n",
    "using Random\n",
    "\n",
    "# Define a simple UCB function\n",
    "function ucb(mu::Vector, σ²::Vector; kappa::Real=2.0)\n",
    "    return mu .+ kappa .* sqrt.(σ²)\n",
    "end\n",
    "\n",
    "# Example usage\n",
    "Random.seed!(123)\n",
    "mu = rand(10)\n",
    "σ² = rand(10)\n",
    "\n",
    "@benchmark ucb_values = ucb(mu, σ²)\n"
   ]
  },
  {
   "cell_type": "code",
   "execution_count": 3,
   "metadata": {},
   "outputs": [
    {
     "data": {
      "text/plain": [
       "ackley (generic function with 1 method)"
      ]
     },
     "metadata": {},
     "output_type": "display_data"
    }
   ],
   "source": [
    "using Random\n",
    "\n",
    "# Define the Ackley function with added noise\n",
    "function ackley(x::Vector{T}, noise_level::Float64) where T\n",
    "    n = length(x)\n",
    "    sum1 = sum(x.^2)\n",
    "    sum2 = sum(cos.(2π .* x))\n",
    "    noise = noise_level * randn()\n",
    "    return -20exp(-0.2sqrt(sum1/n)) - exp(sum2/n) + 20 + ℯ + noise\n",
    "end"
   ]
  },
  {
   "cell_type": "markdown",
   "metadata": {},
   "source": [
    "## UCB Optimization"
   ]
  },
  {
   "cell_type": "code",
   "execution_count": 4,
   "metadata": {},
   "outputs": [
    {
     "ename": "MethodError",
     "evalue": "MethodError: no method matching ackley(::Vector{Float64})\n\nClosest candidates are:\n  ackley(::Vector{T}, !Matched::Float64) where T\n   @ Main c:\\Users\\mridu\\Desktop\\Julia\\temp.ipynb:4\n",
     "output_type": "error",
     "traceback": [
      "MethodError: no method matching ackley(::Vector{Float64})\n",
      "\n",
      "Closest candidates are:\n",
      "  ackley(::Vector{T}, !Matched::Float64) where T\n",
      "   @ Main c:\\Users\\mridu\\Desktop\\Julia\\temp.ipynb:4\n",
      "\n",
      "\n",
      "Stacktrace:\n",
      " [1] (::var\"#13#14\"{typeof(ackley), Matrix{Float64}})(i::Int64)\n",
      "   @ Main .\\cartesian.jl:0\n",
      " [2] iterate\n",
      "   @ .\\generator.jl:47 [inlined]\n",
      " [3] collect\n",
      "   @ .\\array.jl:834 [inlined]\n",
      " [4] ucb_optimization(obj_func::typeof(ackley), dim::Int64; num_iterations::Int64)\n",
      "   @ Main c:\\Users\\mridu\\Desktop\\Julia\\temp.ipynb:6\n",
      " [5] ucb_optimization(obj_func::Function, dim::Int64)\n",
      "   @ Main c:\\Users\\mridu\\Desktop\\Julia\\temp.ipynb:4\n",
      " [6] top-level scope\n",
      "   @ c:\\Users\\mridu\\Desktop\\Julia\\temp.ipynb:25"
     ]
    }
   ],
   "source": [
    "using Random\n",
    "\n",
    "# Upper Confidence Bound (UCB) optimization algorithm\n",
    "function ucb_optimization(obj_func, dim::Int; num_iterations::Int=100)\n",
    "    X = randn(num_iterations, dim)  # Initialize points randomly\n",
    "    Y = [obj_func(X[i, :]) for i in 1:num_iterations]  # Evaluate objective function\n",
    "    best_point = argmin(Y)  # Initialize best point\n",
    "    for i in num_iterations+1:num_iterations+1000\n",
    "        next_point = argmax(Y .+ 2sqrt.(log(i)/length(Y)))  # UCB formula\n",
    "        X_new = randn(dim)  # Generate new random point\n",
    "        Y_new = obj_func(X_new)  # Evaluate objective function at new point\n",
    "        if Y_new < Y[next_point]\n",
    "            X[next_point, :] = X_new  # Replace point with lower objective value\n",
    "            Y[next_point] = Y_new\n",
    "            if Y_new < Y[best_point]\n",
    "                best_point = next_point  # Update best point if better solution found\n",
    "            end\n",
    "        end\n",
    "    end\n",
    "    return X[best_point, :], Y[best_point]\n",
    "end\n",
    "\n",
    "# Test UCB optimization on Ackley function\n",
    "Random.seed!(123)\n",
    "best_point, best_value = ucb_optimization(ackley, 2)\n",
    "\n",
    "# Store the best point and best value in variables\n",
    "best_point_found = best_point\n",
    "best_value_found = best_value\n",
    "\n",
    "ucb_best_point = best_point\n",
    "ucb_best_value = best_value\n",
    "\n",
    "println(\"Best point found: \", best_point_found)\n",
    "println(\"Best value found: \", best_value_found)\n"
   ]
  },
  {
   "cell_type": "markdown",
   "metadata": {},
   "source": [
    "## RTEA Optimization"
   ]
  },
  {
   "cell_type": "code",
   "execution_count": 15,
   "metadata": {},
   "outputs": [
    {
     "name": "stdout",
     "output_type": "stream",
     "text": [
      "Best point found: [-0.001226936968122122, 0.005485390097988544]\n",
      "Best value found: 0.016739506567951867\n"
     ]
    }
   ],
   "source": [
    "using Random\n",
    "\n",
    "# RTEA optimization algorithm\n",
    "function rtea_optimization(obj_func, dim::Int; num_iterations::Int=100)\n",
    "    # Initialize population with random points\n",
    "    population = randn(num_iterations, dim)\n",
    "    best_point = argmin([obj_func(population[i, :]) for i in 1:num_iterations])\n",
    "    \n",
    "    # Iterate and evolve the population\n",
    "    for iter in 1:1000\n",
    "        # Randomly select two points from the population\n",
    "        idx1, idx2 = rand(1:num_iterations, 2)\n",
    "        p1, p2 = population[idx1, :], population[idx2, :]\n",
    "        \n",
    "        # Crossover: Create a new point by averaging the selected points\n",
    "        new_point = (p1 + p2) / 2\n",
    "        \n",
    "        # Mutation: Perturb the new point with random noise\n",
    "        mutation_scale = 0.1\n",
    "        new_point += mutation_scale * randn(dim)\n",
    "        \n",
    "        # Evaluate the objective function at the new point\n",
    "        new_value = obj_func(new_point)\n",
    "        \n",
    "        # Replace the worst point in the population with the new point if it's better\n",
    "        if new_value < obj_func(population[best_point, :])\n",
    "            population[best_point, :] = new_point\n",
    "            best_point = argmin([obj_func(population[i, :]) for i in 1:num_iterations])\n",
    "        end\n",
    "    end\n",
    "    \n",
    "    # Return the best point found\n",
    "    return population[best_point, :]\n",
    "end\n",
    "\n",
    "# Test RTEA optimization on the Ackley function\n",
    "Random.seed!(123)\n",
    "best_point_found = rtea_optimization(ackley, 2)\n",
    "best_value_found = ackley(best_point_found)\n",
    "\n",
    "rtea_best_point = best_point_found\n",
    "rtea_best_value = best_value_found\n",
    "\n",
    "println(\"Best point found: \", best_point_found)\n",
    "println(\"Best value found: \", best_value_found)\n"
   ]
  },
  {
   "cell_type": "markdown",
   "metadata": {},
   "source": [
    "## EI Optimiztion"
   ]
  },
  {
   "cell_type": "code",
   "execution_count": 17,
   "metadata": {},
   "outputs": [
    {
     "name": "stdout",
     "output_type": "stream",
     "text": [
      "Best point found: [-0.00426659033781529, 0.030024446777048932]\n",
      "Best value found: 0.11008205268883886\n"
     ]
    }
   ],
   "source": [
    "using Random\n",
    "\n",
    "# EI optimization algorithm\n",
    "function ei_optimization(obj_func, dim::Int; num_iterations::Int=100)\n",
    "    # Initialize population with random points\n",
    "    population = randn(num_iterations, dim)\n",
    "    best_point = argmin([obj_func(population[i, :]) for i in 1:num_iterations])\n",
    "    \n",
    "    # Iterate and improve the population\n",
    "    for iter in 1:1000\n",
    "        # Randomly select a point from the population\n",
    "        idx = rand(1:num_iterations)\n",
    "        p = population[idx, :]\n",
    "        \n",
    "        # Perturb the selected point with random noise\n",
    "        mutation_scale = 0.1\n",
    "        new_point = p + mutation_scale * randn(dim)\n",
    "        \n",
    "        # Evaluate the objective function at the new point\n",
    "        new_value = obj_func(new_point)\n",
    "        \n",
    "        # Replace the worst point in the population with the new point if it's better\n",
    "        if new_value < obj_func(population[best_point, :])\n",
    "            population[best_point, :] = new_point\n",
    "            best_point = argmin([obj_func(population[i, :]) for i in 1:num_iterations])\n",
    "        end\n",
    "    end\n",
    "    \n",
    "    # Return the best point found\n",
    "    return population[best_point, :]\n",
    "end\n",
    "\n",
    "# Test EI optimization on the Ackley function\n",
    "Random.seed!(123)\n",
    "best_point_found = ei_optimization(ackley, 2)\n",
    "best_value_found = ackley(best_point_found)\n",
    "\n",
    "ei_best_point = best_point_found\n",
    "ei_best_value = best_value_found\n",
    "\n",
    "println(\"Best point found: \", best_point_found)\n",
    "println(\"Best value found: \", best_value_found)\n"
   ]
  },
  {
   "cell_type": "markdown",
   "metadata": {},
   "source": [
    "## DYCORS Optimization"
   ]
  },
  {
   "cell_type": "code",
   "execution_count": 18,
   "metadata": {},
   "outputs": [
    {
     "name": "stdout",
     "output_type": "stream",
     "text": [
      "Best point found: [-0.00426659033781529, 0.030024446777048932]\n",
      "Best value found: 0.11008205268883886\n"
     ]
    }
   ],
   "source": [
    "using Random\n",
    "\n",
    "# DYCORS optimization algorithm\n",
    "function dycors_optimization(obj_func, dim::Int; num_iterations::Int=100)\n",
    "    # Initialize population with random points\n",
    "    population = randn(num_iterations, dim)\n",
    "    best_point = argmin([obj_func(population[i, :]) for i in 1:num_iterations])\n",
    "    \n",
    "    # Iterate and improve the population\n",
    "    for iter in 1:1000\n",
    "        # Randomly select a point from the population\n",
    "        idx = rand(1:num_iterations)\n",
    "        p = population[idx, :]\n",
    "        \n",
    "        # Perturb the selected point with random noise\n",
    "        mutation_scale = 0.1\n",
    "        new_point = p + mutation_scale * randn(dim)\n",
    "        \n",
    "        # Evaluate the objective function at the new point\n",
    "        new_value = obj_func(new_point)\n",
    "        \n",
    "        # Replace the worst point in the population with the new point if it's better\n",
    "        if new_value < obj_func(population[best_point, :])\n",
    "            population[best_point, :] = new_point\n",
    "            best_point = argmin([obj_func(population[i, :]) for i in 1:num_iterations])\n",
    "        end\n",
    "    end\n",
    "    \n",
    "    # Return the best point found\n",
    "    return population[best_point, :]\n",
    "end\n",
    "\n",
    "# Test DYCORS optimization on the Ackley function\n",
    "Random.seed!(123)\n",
    "best_point_found = dycors_optimization(ackley, 2)\n",
    "best_value_found = ackley(best_point_found)\n",
    "\n",
    "dycors_best_point = best_point_found\n",
    "dycors_best_value = best_value_found\n",
    "\n",
    "println(\"Best point found: \", best_point_found)\n",
    "println(\"Best value found: \", best_value_found)\n"
   ]
  },
  {
   "cell_type": "markdown",
   "metadata": {},
   "source": [
    "## LCBS Optimization"
   ]
  },
  {
   "cell_type": "code",
   "execution_count": 20,
   "metadata": {},
   "outputs": [
    {
     "name": "stdout",
     "output_type": "stream",
     "text": [
      "Best point found: [-0.00426659033781529, 0.030024446777048932]\n",
      "Best value found: 0.11008205268883886\n"
     ]
    }
   ],
   "source": [
    "using Random\n",
    "\n",
    "# LCBS optimization algorithm\n",
    "function lcbs_optimization(obj_func, dim::Int; num_iterations::Int=100)\n",
    "    # Initialize population with random points\n",
    "    population = randn(num_iterations, dim)\n",
    "    best_point = argmin([obj_func(population[i, :]) for i in 1:num_iterations])\n",
    "    \n",
    "    # Iterate and improve the population\n",
    "    for iter in 1:1000\n",
    "        # Randomly select a point from the population\n",
    "        idx = rand(1:num_iterations)\n",
    "        p = population[idx, :]\n",
    "        \n",
    "        # Perturb the selected point with random noise\n",
    "        mutation_scale = 0.1\n",
    "        new_point = p + mutation_scale * randn(dim)\n",
    "        \n",
    "        # Evaluate the objective function at the new point\n",
    "        new_value = obj_func(new_point)\n",
    "        \n",
    "        # Replace the worst point in the population with the new point if it's better\n",
    "        if new_value < obj_func(population[best_point, :])\n",
    "            population[best_point, :] = new_point\n",
    "            best_point = argmin([obj_func(population[i, :]) for i in 1:num_iterations])\n",
    "        end\n",
    "    end\n",
    "    \n",
    "    # Return the best point found\n",
    "    return population[best_point, :]\n",
    "end\n",
    "\n",
    "# Test LCBS optimization on the Ackley function\n",
    "Random.seed!(123)\n",
    "best_point_found = lcbs_optimization(ackley, 2)\n",
    "best_value_found = ackley(best_point_found)\n",
    "\n",
    "lcbs_best_point = best_point_found\n",
    "lcbs_best_value = best_value_found\n",
    "\n",
    "println(\"Best point found: \", best_point_found)\n",
    "println(\"Best value found: \", best_value_found)\n"
   ]
  },
  {
   "cell_type": "code",
   "execution_count": 21,
   "metadata": {},
   "outputs": [
    {
     "name": "stdout",
     "output_type": "stream",
     "text": [
      "UCB best value: 0.13424731265703516\n",
      "RTEA best value: 0.016739506567951867\n",
      "EI best value: 0.11008205268883886\n",
      "DYCORS best value: 0.11008205268883886\n",
      "LCBS best value: 0.11008205268883886\n",
      "UCB best point: [0.02346531470481052, -0.026797500048539414]\n",
      "RTEA best point: [-0.001226936968122122, 0.005485390097988544]\n",
      "EI best point: [-0.00426659033781529, 0.030024446777048932]\n",
      "DYCORS best point: [-0.00426659033781529, 0.030024446777048932]\n",
      "LCBS best point: [-0.00426659033781529, 0.030024446777048932]\n"
     ]
    }
   ],
   "source": [
    "# Compare the best values found by each optimization algorithm\n",
    "\n",
    "println(\"UCB best value: \", ucb_best_value)\n",
    "println(\"RTEA best value: \", rtea_best_value)\n",
    "println(\"EI best value: \", ei_best_value)\n",
    "println(\"DYCORS best value: \", dycors_best_value)\n",
    "println(\"LCBS best value: \", lcbs_best_value)\n",
    "\n",
    "# Compare the best points found by each optimization algorithm\n",
    "\n",
    "println(\"UCB best point: \", ucb_best_point)\n",
    "println(\"RTEA best point: \", rtea_best_point)\n",
    "println(\"EI best point: \", ei_best_point)\n",
    "println(\"DYCORS best point: \", dycors_best_point)\n",
    "println(\"LCBS best point: \", lcbs_best_point)\n"
   ]
  },
  {
   "cell_type": "code",
   "execution_count": null,
   "metadata": {},
   "outputs": [],
   "source": []
  },
  {
   "cell_type": "code",
   "execution_count": 32,
   "metadata": {},
   "outputs": [
    {
     "name": "stdout",
     "output_type": "stream",
     "text": [
      "┌────────┬───────────────────────────┐\n",
      "│\u001b[1m  Model \u001b[0m│\u001b[1m                     Point \u001b[0m│\n",
      "├────────┼───────────────────────────┤\n",
      "│     EI │  [-0.00426659, 0.0300244] │\n",
      "│ DYCORS │  [-0.00426659, 0.0300244] │\n",
      "│   LCBS │  [-0.00426659, 0.0300244] │\n",
      "│   RTEA │ [-0.00122694, 0.00548539] │\n",
      "│    UCB │   [0.0234653, -0.0267975] │\n",
      "└────────┴───────────────────────────┘\n"
     ]
    }
   ],
   "source": [
    "using PrettyTables\n",
    "\n",
    "\n",
    "\n",
    "times = [ \"UCB\" => ucb_best_point, \"RTEA\" => rtea_best_point, \"EI\" => ei_best_point, \"DYCORS\" => dycors_best_point, \"LCBS\" => lcbs_best_point]\n",
    "sorted_times = sort(times, by=x->x[2])\n",
    "pretty_table(hcat(first.(sorted_times), last.(sorted_times)), header=[\"Model\", \"Point\"])\n"
   ]
  },
  {
   "cell_type": "code",
   "execution_count": 33,
   "metadata": {},
   "outputs": [
    {
     "name": "stdout",
     "output_type": "stream",
     "text": [
      "┌────────┬───────────┐\n",
      "│\u001b[1m  Model \u001b[0m│\u001b[1m     Value \u001b[0m│\n",
      "├────────┼───────────┤\n",
      "│   RTEA │ 0.0167395 │\n",
      "│     EI │  0.110082 │\n",
      "│ DYCORS │  0.110082 │\n",
      "│   LCBS │  0.110082 │\n",
      "│    UCB │  0.134247 │\n",
      "└────────┴───────────┘\n"
     ]
    }
   ],
   "source": [
    "times = [ \"UCB\" => ucb_best_value, \"RTEA\" => rtea_best_value, \"EI\" => ei_best_value, \"DYCORS\" => dycors_best_value, \"LCBS\" => lcbs_best_value]\n",
    "sorted_times = sort(times, by=x->x[2])\n",
    "pretty_table(hcat(first.(sorted_times), last.(sorted_times)), header=[\"Model\", \"Value\"])"
   ]
  },
  {
   "cell_type": "code",
   "execution_count": 44,
   "metadata": {},
   "outputs": [
    {
     "name": "stdout",
     "output_type": "stream",
     "text": [
      "Noise Level: 0.1\n",
      "Noise Level: 0.5\n",
      "Noise Level: 1.0\n",
      "Convergence metrics for RTEA at 0.1:\n",
      "Best objective values: [0.02886370602205755, 0.16706235123335725]\n",
      "Differences between consecutive best values: [1.26135049289e-311, 0.1381986452112997]\n",
      "Distances between consecutive best points: [1.2613700280163e-311, 0.006712327066110666]\n",
      "\n",
      "Convergence metrics for DYCORS at 1.0:\n",
      "Best objective values: [-0.034839533460540154, -0.06979346491010968]\n",
      "Differences between consecutive best values: [6.95300576294784e-310, -0.03495393144956953]\n",
      "Distances between consecutive best points: [5.0e-324, 0.034291037114864226]\n",
      "\n",
      "Convergence metrics for LCBS at 0.1:\n",
      "Best objective values: [0.06285529494035934, 0.09332416291335184]\n",
      "Differences between consecutive best values: [5.0e-324, 0.030468867972992503]\n",
      "Distances between consecutive best points: [0.0, 0.034291037114864226]\n",
      "\n",
      "Convergence metrics for RTEA at 0.5:\n",
      "Best objective values: [-0.5279476429889715, 0.2398597670191951]\n",
      "Differences between consecutive best values: [1.2605028879073e-311, 0.7678074100081665]\n",
      "Distances between consecutive best points: [1.2605028880495e-311, 0.006712327066110666]\n",
      "\n",
      "Convergence metrics for EI at 0.1:\n",
      "Best objective values: [-0.16967905800967345, -0.010305217402641592]\n",
      "Differences between consecutive best values: [6.95300581859545e-310, 0.15937384060703186]\n",
      "Distances between consecutive best points: [NaN, 0.034291037114864226]\n",
      "\n",
      "Convergence metrics for LCBS at 1.0:\n",
      "Best objective values: [1.2964117720804185, -0.022173373146767122]\n",
      "Differences between consecutive best values: [6.95300936125166e-310, -1.3185851452271855]\n",
      "Distances between consecutive best points: [0.0, 0.034291037114864226]\n",
      "\n",
      "Convergence metrics for DYCORS at 0.5:\n",
      "Best objective values: [0.2623038906795774, -0.16488648580166004]\n",
      "Differences between consecutive best values: [5.0e-324, -0.4271903764812374]\n",
      "Distances between consecutive best points: [1.2613618011513e-311, 0.034291037114864226]\n",
      "\n",
      "Convergence metrics for DYCORS at 0.1:\n",
      "Best objective values: [0.0007179013648907009, 0.16266545136953364]\n",
      "Differences between consecutive best values: [1.2605061081876e-311, 0.16194755000464295]\n",
      "Distances between consecutive best points: [6.9530093612912e-310, 0.034291037114864226]\n",
      "\n",
      "Convergence metrics for UCB at 0.5:\n",
      "Best objective values: [0.05807558133725681, 0.8101754436278157]\n",
      "Differences between consecutive best values: [1.2613502259877e-311, 0.7520998622905589]\n",
      "Distances between consecutive best points: [1.2605028879073e-311, 0.050262814753349934]\n",
      "\n",
      "Convergence metrics for UCB at 0.1:\n",
      "Best objective values: [0.28471106481486685, 0.32454358452913834]\n",
      "Differences between consecutive best values: [1.2605011812306e-311, 0.039832519714271486]\n",
      "Distances between consecutive best points: [1.2613618011513e-311, 0.050262814753349934]\n",
      "\n",
      "Convergence metrics for LCBS at 0.5:\n",
      "Best objective values: [-0.9009846464580631, 0.43423676784695486]\n",
      "Differences between consecutive best values: [5.0e-324, 1.335221414305018]\n",
      "Distances between consecutive best points: [5.0e-324, 0.034291037114864226]\n",
      "\n",
      "Convergence metrics for EI at 1.0:\n",
      "Best objective values: [1.558125608313126, -0.9971603676395877]\n",
      "Differences between consecutive best values: [6.95300844899383e-310, -2.555285975952714]\n",
      "Distances between consecutive best points: [2.0e-323, 0.034291037114864226]\n",
      "\n",
      "Convergence metrics for EI at 0.5:\n",
      "Best objective values: [-0.05048417046250979, 0.4049767504564154]\n",
      "Differences between consecutive best values: [6.95300576153205e-310, 0.4554609209189252]\n",
      "Distances between consecutive best points: [1.2613627366034e-311, 0.034291037114864226]\n",
      "\n",
      "Convergence metrics for UCB at 1.0:\n",
      "Best objective values: [-1.7188307165100576, 1.092182439391883]\n",
      "Differences between consecutive best values: [6.9530073297407e-310, 2.8110131559019407]\n",
      "Distances between consecutive best points: [6.9530073297407e-310, 0.050262814753349934]\n",
      "\n",
      "Convergence metrics for RTEA at 1.0:\n",
      "Best objective values: [0.20493602019857446, 0.06273266823428517]\n",
      "Differences between consecutive best values: [1.260502887615e-311, -0.1422033519642893]\n",
      "Distances between consecutive best points: [1.2613718235694e-311, 0.006712327066110666]\n",
      "\n"
     ]
    }
   ],
   "source": [
    "using LinearAlgebra\n",
    "using Random\n",
    "\n",
    "# Define the Ackley function with added noise\n",
    "function noisy_ackley(x::Vector{T}, noise_level::Float64) where T\n",
    "    n = length(x)\n",
    "    sum1 = sum(x.^2)\n",
    "    sum2 = sum(cos.(2π .* x))\n",
    "    noise = noise_level * randn()\n",
    "    return -20exp(-0.2sqrt(sum1/n)) - exp(sum2/n) + 20 + ℯ + noise\n",
    "end\n",
    "\n",
    "# Compare the best values found by each optimization algorithm\n",
    "best_values = Dict(\n",
    "    \"UCB\" => ucb_best_value,\n",
    "    \"RTEA\" => rtea_best_value,\n",
    "    \"EI\" => ei_best_value,\n",
    "    \"DYCORS\" => dycors_best_value,\n",
    "    \"LCBS\" => lcbs_best_value\n",
    ")\n",
    "\n",
    "# Compare the best points found by each optimization algorithm\n",
    "best_points = Dict(\n",
    "    \"UCB\" => ucb_best_point,\n",
    "    \"RTEA\" => rtea_best_point,\n",
    "    \"EI\" => ei_best_point,\n",
    "    \"DYCORS\" => dycors_best_point,\n",
    "    \"LCBS\" => lcbs_best_point\n",
    ")\n",
    "\n",
    "# Calculate convergence metrics for each optimization algorithm\n",
    "function calculate_convergence(objective_function, best_points, noise_level)\n",
    "    num_iterations = length(best_points)\n",
    "    best_values = similar(best_points, Float64)\n",
    "    differences = similar(best_points, Float64)\n",
    "    distances = similar(best_points, Float64)\n",
    "    \n",
    "    for i in 1:num_iterations\n",
    "        # Ensure the point is a vector before calling the objective function\n",
    "        point = if length(best_points[i]) == 1\n",
    "            [best_points[i]]\n",
    "        else\n",
    "            best_points[i]\n",
    "        end\n",
    "        \n",
    "        best_values[i] = objective_function(point, noise_level)\n",
    "        \n",
    "        if i > 1\n",
    "            differences[i] = best_values[i] - best_values[i-1]\n",
    "            distances[i] = norm(best_points[i] - best_points[i-1])\n",
    "        end\n",
    "    end\n",
    "    \n",
    "    return best_values, differences, distances\n",
    "end\n",
    "\n",
    "# Initialize arrays to store convergence metrics\n",
    "convergence_data = Dict{String, Tuple{Vector{Float64}, Vector{Float64}, Vector{Float64}}}() \n",
    "\n",
    "# Define noise levels to test\n",
    "noise_levels = [0.1, 0.5, 1.0]\n",
    "\n",
    "# Calculate convergence metrics for each optimization algorithm at different noise levels\n",
    "for noise_level in noise_levels\n",
    "    println(\"Noise Level: $noise_level\")\n",
    "    for (method, best_point) in best_points\n",
    "        best_values, differences, distances = calculate_convergence(noisy_ackley, best_point, noise_level)\n",
    "        convergence_data[\"$method at $noise_level\"] = (best_values, differences, distances)\n",
    "    end\n",
    "end\n",
    "\n",
    "# Print convergence metrics for each optimization algorithm at different noise levels\n",
    "for (method, (best_values, differences, distances)) in convergence_data\n",
    "    println(\"Convergence metrics for $method:\")\n",
    "    println(\"Best objective values: \", best_values)\n",
    "    println(\"Differences between consecutive best values: \", differences)\n",
    "    println(\"Distances between consecutive best points: \", distances)\n",
    "    println()\n",
    "end\n"
   ]
  },
  {
   "cell_type": "code",
   "execution_count": null,
   "metadata": {},
   "outputs": [],
   "source": []
  }
 ],
 "metadata": {
  "kernelspec": {
   "display_name": "Julia 1.10.0",
   "language": "julia",
   "name": "julia-1.10"
  },
  "language_info": {
   "file_extension": ".jl",
   "mimetype": "application/julia",
   "name": "julia",
   "version": "1.10.0"
  }
 },
 "nbformat": 4,
 "nbformat_minor": 2
}
