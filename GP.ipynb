{
 "cells": [
  {
   "cell_type": "code",
   "execution_count": 1,
   "metadata": {},
   "outputs": [],
   "source": [
    "using LinearAlgebra\n",
    "\n",
    "# Define the kernel function\n",
    "function kernel(x1, x2, θ)\n",
    "    return exp(-0.5 * sum((x1 - x2).^2 / θ.^2))\n",
    "end\n",
    "\n",
    "# Define the Gaussian Process class\n",
    "struct GaussianProcess{T<:AbstractFloat}\n",
    "    X::Matrix{T}      # Training inputs\n",
    "    y::Vector{T}      # Training outputs\n",
    "    θ::Vector{T}      # Kernel parameters\n",
    "end"
   ]
  },
  {
   "cell_type": "code",
   "execution_count": 2,
   "metadata": {},
   "outputs": [
    {
     "data": {
      "text/plain": [
       "predict (generic function with 1 method)"
      ]
     },
     "metadata": {},
     "output_type": "display_data"
    }
   ],
   "source": [
    "# Constructor for the Gaussian Process\n",
    "function GaussianProcess(X::Matrix{T}, y::Vector{T}, θ::Vector{T}) where T<:AbstractFloat\n",
    "    return GaussianProcess{T}(X, y, θ)\n",
    "end\n",
    "\n",
    "# Compute the covariance matrix\n",
    "function covariance_matrix(gp::GaussianProcess, X::Matrix)\n",
    "    n = size(gp.X, 1)\n",
    "    m = size(X, 1)\n",
    "    K = zeros(gp.X, X)\n",
    "    for i in 1:n\n",
    "        for j in 1:m\n",
    "            K[i, j] = kernel(gp.X[i, :], X[j, :], gp.θ)\n",
    "        end\n",
    "    end\n",
    "    return K\n",
    "end\n",
    "\n",
    "# Predict function\n",
    "function predict(gp::GaussianProcess, X_star::Matrix)\n",
    "    K = covariance_matrix(gp, X_star)\n",
    "    K_star = covariance_matrix(gp, gp.X)\n",
    "    K_star_star = covariance_matrix(gp, X_star)\n",
    "    \n",
    "    L = cholesky(K + 1e-6I)\n",
    "    α = L \\ (L' \\ gp.y)\n",
    "    \n",
    "    μ_star = K_star_star' * α\n",
    "    v = L \\ K_star\n",
    "    Σ_star = K_star_star' - v' * v\n",
    "    \n",
    "    return μ_star, diag(Σ_star)\n",
    "end"
   ]
  },
  {
   "cell_type": "code",
   "execution_count": 3,
   "metadata": {},
   "outputs": [
    {
     "ename": "UndefVarError",
     "evalue": "UndefVarError: `generate_data` not defined",
     "output_type": "error",
     "traceback": [
      "UndefVarError: `generate_data` not defined\n",
      "\n",
      "Stacktrace:\n",
      " [1] top-level scope\n",
      "   @ c:\\Users\\mridu\\Desktop\\Julia\\GP.ipynb:3"
     ]
    }
   ],
   "source": []
  },
  {
   "cell_type": "code",
   "execution_count": null,
   "metadata": {},
   "outputs": [],
   "source": []
  }
 ],
 "metadata": {
  "kernelspec": {
   "display_name": "Julia 1.10.0",
   "language": "julia",
   "name": "julia-1.10"
  },
  "language_info": {
   "file_extension": ".jl",
   "mimetype": "application/julia",
   "name": "julia",
   "version": "1.10.0"
  }
 },
 "nbformat": 4,
 "nbformat_minor": 2
}
